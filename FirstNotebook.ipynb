{
    "cells": [
        {
            "cell_type": "markdown",
            "metadata": {
                "collapsed": true
            },
            "source": "# My Jupyter Notebook on IBM Watson Studio"
        },
        {
            "cell_type": "markdown",
            "metadata": {},
            "source": "**Name: Angela Zhang** <br>\n**Current Occupation: University Student**"
        },
        {
            "cell_type": "markdown",
            "metadata": {},
            "source": "*I am interested in data science because I enjoyed collecting data and analyzing data using Python for my physics labs. I am excited to see how data science can be used by businesses in other industries!*"
        },
        {
            "cell_type": "markdown",
            "metadata": {},
            "source": "### The following piece of code will tell you whether or not the number 555 is even or odd."
        },
        {
            "cell_type": "code",
            "execution_count": 5,
            "metadata": {},
            "outputs": [
                {
                    "data": {
                        "text/plain": "'The input is odd!'"
                    },
                    "execution_count": 5,
                    "metadata": {},
                    "output_type": "execute_result"
                }
            ],
            "source": "def oddOrEven(input: int):\n    if (input%2 == 0):\n        return \"The input is even!\"\n    else:\n        return \"The input is odd!\"\n\noddOrEven(555)"
        },
        {
            "cell_type": "markdown",
            "metadata": {},
            "source": "My Shopping List\n***\n1. Carrots\n2. Mushrooms\n3. Broccoli\n4. Tomatoes\n5. ~~Pringles~~\n6. Pasta\n\nThank you for looking at my Jupyter Notebook! Here are some cat videos as thanks! I hope you have a healthy, happy 2022!\n\n[Cat With Deep Meow](https://www.youtube.com/embed/w7x_lWJNnNg)<br>\n[Talkative Rescue Kitten!](https://www.youtube.com/embed/oFArsXnJfbI)<br>\n[What Kind of Cat is This?](https://www.youtube.com/embed/dQw4w9WgXcQ)\n"
        }
    ],
    "metadata": {
        "kernelspec": {
            "display_name": "Python 3.8",
            "language": "python",
            "name": "python3"
        },
        "language_info": {
            "codemirror_mode": {
                "name": "ipython",
                "version": 3
            },
            "file_extension": ".py",
            "mimetype": "text/x-python",
            "name": "python",
            "nbconvert_exporter": "python",
            "pygments_lexer": "ipython3",
            "version": "3.8.12"
        }
    },
    "nbformat": 4,
    "nbformat_minor": 1
}